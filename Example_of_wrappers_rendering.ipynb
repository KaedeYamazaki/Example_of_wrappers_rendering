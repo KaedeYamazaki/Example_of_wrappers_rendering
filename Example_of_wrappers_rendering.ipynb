{
  "cells": [
    {
      "cell_type": "markdown",
      "metadata": {
        "id": "mUJVeyCKQ-Vk"
      },
      "source": [
        "# **Example of wrappers.rendering**\n",
        "ソースコードは以下から参照されたい  \n",
        "[Source code for gymnasium.wrappers.rendering](https://gymnasium.farama.org/main/_modules/gymnasium/wrappers/rendering/#HumanRendering)"
      ]
    },
    {
      "cell_type": "code",
      "execution_count": null,
      "metadata": {
        "colab": {
          "base_uri": "https://localhost:8080/"
        },
        "id": "f0huLvrwXwP7",
        "outputId": "7598b41b-b9a1-4ea5-9966-7b5ee05ab8ac"
      },
      "outputs": [],
      "source": [
        "if str(get_ipython()).startswith('<google.colab.'):\n",
        "    !pip install gymnasium"
      ]
    },
    {
      "cell_type": "markdown",
      "metadata": {
        "id": "RwbvK-cFTmSq"
      },
      "source": [
        "## <font color= \"#ff2200\">**RenderCollectionラッパーの使い方**</font>"
      ]
    },
    {
      "cell_type": "code",
      "execution_count": null,
      "metadata": {
        "id": "5bw0OZJUTojT"
      },
      "outputs": [],
      "source": [
        "import gymnasium as gym\n",
        "from gymnasium.wrappers import RenderCollection\n",
        "\n",
        "# 環境を作成し、RenderCollectionラッパーを適用\n",
        "env = gym.make(\"CartPole-v1\", render_mode=\"rgb_array\")\n",
        "env = RenderCollection(env)\n",
        "\n",
        "# 環境をリセット\n",
        "observation, info = env.reset(seed=42)\n",
        "\n",
        "# 200ステップ実行し、フレームを収集\n",
        "frames = []\n",
        "for _ in range(200):\n",
        "    action = env.action_space.sample()\n",
        "    observation, reward, terminated, truncated, info = env.step(action)\n",
        "\n",
        "    if terminated or truncated:\n",
        "        break\n",
        "\n",
        "# 収集したフレームを取得\n",
        "frames = env.render()\n",
        "\n",
        "# フレーム数を出力\n",
        "print(f\"Collected {len(frames)} frames.\")\n",
        "\n",
        "env.close()"
      ]
    },
    {
      "cell_type": "markdown",
      "metadata": {
        "id": "uctXr-C7TqVJ"
      },
      "source": [
        "### **使い方**\n",
        "\n",
        "RenderCollectionラッパーは、環境のレンダリングされたフレームをリストに収集するためのものです。以下のように適用します。\n",
        "\n",
        "```python\n",
        "import gymnasium as gym\n",
        "from gymnasium.wrappers import RenderCollection\n",
        "\n",
        "env = gym.make(\"env_id\", render_mode=\"rgb_array\")\n",
        "env = RenderCollection(env)\n",
        "```\n",
        "\n",
        "レンダリングされたフレームは `env.render()` を呼び出すことで取得できます。さらに、以下のパラメータを指定できます。\n",
        "\n",
        "- `pop_frames` (デフォルト: True) - `render()`が呼び出された後にフレームリストを空にするかどうか\n",
        "- `reset_clean` (デフォルト: True) - `reset()`が呼び出された時にフレームリストを空にするかどうか\n",
        "\n",
        "\n",
        "\n",
        "上記のコードでは、CartPole-v1環境を作成し、RenderCollectionラッパーを適用しています。その後、200ステップ実行し、レンダリングされたフレームを収集しています。\n",
        "\n",
        "最後に `env.render()` を呼び出すと、収集したフレームのリストが返されます。デフォルトでは、この呼び出し後にフレームリストは空になります(`pop_frames=True`)。\n",
        "\n",
        "出力例:\n",
        "\n",
        "```\n",
        "Collected 200 frames.\n",
        "```\n",
        "\n",
        "収集したフレームは、後で動画に変換したり、フレーム単位での処理に使用できます。RenderCollectionは、レンダリングされた環境の経過を記録しておく際に便利です。"
      ]
    },
    {
      "cell_type": "markdown",
      "metadata": {
        "id": "dsPOoG7qQf1y"
      },
      "source": [
        "## <font color= \"#00ff00\">**RecordVideoラッパーの使い方**</font>"
      ]
    },
    {
      "cell_type": "code",
      "execution_count": null,
      "metadata": {
        "colab": {
          "base_uri": "https://localhost:8080/"
        },
        "id": "Qe-E9fsnI-U6",
        "outputId": "57cb594e-96c0-47c6-81ea-b59c293b052c"
      },
      "outputs": [],
      "source": [
        "import gymnasium as gym\n",
        "from gymnasium.wrappers import RecordVideo\n",
        "\n",
        "# 環境の作成\n",
        "env = gym.make(\"CartPole-v1\", render_mode=\"rgb_array\")\n",
        "\n",
        "# ビデオ記録ラッパーの適用\n",
        "env = RecordVideo(env, \"videos/\")\n",
        "\n",
        "# エピソードのループ\n",
        "for episode in range(10):\n",
        "    observation, info = env.reset()\n",
        "    done = False\n",
        "    while not done:\n",
        "        # エージェントの行動を取得 (ここではランダムに行動)\n",
        "        action = env.action_space.sample()\n",
        "\n",
        "        # 1ステップ実行し、次の状態を取得\n",
        "        observation, reward, terminated, truncated, info = env.step(action)\n",
        "        done = terminated or truncated\n",
        "\n",
        "# 環境のクローズ\n",
        "env.close()"
      ]
    },
    {
      "cell_type": "markdown",
      "metadata": {
        "id": "IeAKBZD2QPpO"
      },
      "source": [
        "\n",
        "### **使い方**\n",
        "上記の例では、以下の手順を行っています。\n",
        "\n",
        "1. `gymnasium`環境を作成(`CartPole-v1`の例)。`render_mode=\"rgb_array\"`を指定して画像形式での描画を有効にします。\n",
        "2. `RecordVideo`ラッパーを適用し、`\"videos/\"`ディレクトリにビデオを保存するよう設定します。\n",
        "3. 10エピソードのループを回し、各エピソードでランダムな行動をとります。\n",
        "4. 各エピソードが終了するたびに、自動的にビデオ記録が開始/停止されます。\n",
        "5. 全エピソード終了後に`env.close()`で環境を閉じます。\n",
        "\n",
        "この例では、`RecordVideo`ラッパーのデフォルト設定が使用されています。デフォルトでは、`capped_cubic_video_schedule`関数に基づいてビデオ記録のトリガーが決定されます。この関数は、エピソード番号が0、1、8、27...の時にビデオ記録を開始するように設計されています。\n",
        "\n",
        "記録されたビデオファイルは`videos/`フォルダに保存され、ファイル名は`\"rl-video-episode-{episode_id}\"`という形式になります。\n",
        "\n",
        "必要に応じて、`RecordVideo`の初期化時に以下のパラメータを指定することもできます。\n",
        "\n",
        "- `episode_trigger`: エピソードトリガー関数を指定\n",
        "- `step_trigger`: ステップトリガー関数を指定\n",
        "- `video_length`: 記録するビデオの長さ (フレーム数) を指定\n",
        "- `name_prefix`: ビデオファイル名のプレフィックスを変更\n",
        "\n",
        "このように、`RecordVideo`ラッパークラスを使うことで、Gymnasium環境での学習やテストの過程をビデオとして自動的に記録し、後で振り返ることができます。\n",
        "\n",
        "\n",
        "### **初期化時の設定項目**\n",
        "`RecordVideo`クラスの初期化時に指定できるパラメータは以下の通りです。\n",
        "\n",
        "```python\n",
        "RecordVideo(env,\n",
        "            video_folder,\n",
        "            episode_trigger=None,\n",
        "            step_trigger=None,\n",
        "            video_length=0,\n",
        "            name_prefix='rl-video',\n",
        "            disable_logger=False)\n",
        "```\n",
        "\n",
        "- `env` (gymnasium.Env): ラップする環境オブジェクト\n",
        "- `video_folder` (str): ビデオを保存するフォルダのパス\n",
        "- `episode_trigger` (Callable[[int], bool], optional): エピソードトリガー関数。引数にエピソード番号を取り、そのエピソードでビデオ記録を開始するかどうかをブール値で返す。\n",
        "- `step_trigger` (Callable[[int], bool], optional): ステップトリガー関数。引数にステップ数を取り、そのステップでビデオ記録を開始するかどうかをブール値で返す。\n",
        "- `video_length` (int, optional): 記録するビデオの長さ(フレーム数)。0を指定するとエピソード全体を記録する。\n",
        "- `name_prefix` (str, optional): 保存されるビデオファイル名のプレフィックス。デフォルトは'rl-video'。\n",
        "- `disable_logger` (bool, optional): MoviePyのロガーを無効にするかどうか。デフォルトはFalse。\n",
        "\n",
        "`episode_trigger`と`step_trigger`はどちらか一方しか指定できません。両方指定した場合はAssertionErrorが発生します。\n",
        "\n",
        "また、`episode_trigger`と`step_trigger`を指定しない場合は、デフォルトで`capped_cubic_video_schedule`関数がエピソードトリガーとして使用されます。\n",
        "\n",
        "例えば、10エピソードごとにビデオ記録を開始するようにするには、次のように`episode_trigger`を指定します:\n",
        "\n",
        "```python\n",
        "env = gym.make(\"CartPole-v1\")\n",
        "trigger = lambda episode_id: episode_id % 10 == 0\n",
        "env = RecordVideo(env, \"videos/\", episode_trigger=trigger)\n",
        "```\n",
        "\n",
        "最大1000フレームまでのビデオを記録し、ファイル名に\"run1\"を含めるには:\n",
        "\n",
        "```python\n",
        "env = RecordVideo(env, \"videos/\", video_length=1000, name_prefix=\"run1\")\n",
        "```\n",
        "\n",
        "このように、`RecordVideo`ラッパーの初期化時にパラメータを設定することで、ビデオ記録の動作をカスタマイズできます。"
      ]
    },
    {
      "cell_type": "markdown",
      "metadata": {
        "id": "GwZDcPLxUORo"
      },
      "source": [
        "## <font color= \"#0055ff\">**HumanRenderingクラスの使い方**</font>"
      ]
    },
    {
      "cell_type": "code",
      "execution_count": null,
      "metadata": {
        "id": "IQUc2TGTP8aG"
      },
      "outputs": [],
      "source": [
        "import gymnasium as gym\n",
        "\n",
        "# 環境作成時にHumanRenderingラッパーを適用\n",
        "env = gym.make(\"CartPole-v1\", render_mode=\"human\")\n",
        "\n",
        "# 環境をリセット\n",
        "observation, info = env.reset(seed=42)\n",
        "\n",
        "# 50ステップ実行しながら、レンダリングを行う\n",
        "for _ in range(50):\n",
        "    action = env.action_space.sample() # ランダムなアクションを選択\n",
        "    observation, reward, terminated, truncated, info = env.step(action)\n",
        "\n",
        "    if terminated or truncated:\n",
        "        observation, info = env.reset()\n",
        "\n",
        "env.close()"
      ]
    },
    {
      "cell_type": "markdown",
      "metadata": {
        "id": "AL56NuNYR9W7"
      },
      "source": [
        "### 使い方\n",
        "\n",
        "HumanRenderingラッパーは、環境の\"rgb_array\"レンダリングモードをウィンドウに表示するためのものです。以下の2つの方法でラッパーを適用できます。\n",
        "\n",
        "1. **環境ラッパー適用後**\n",
        "\n",
        "```python\n",
        "import gymnasium as gym\n",
        "from gymnasium.wrappers import HumanRendering\n",
        "\n",
        "env = gym.make(\"env_id\", render_mode=\"rgb_array\")\n",
        "env = HumanRendering(env)\n",
        "```\n",
        "\n",
        "2. **環境作成時**\n",
        "\n",
        "```python\n",
        "import gymnasium as gym\n",
        "\n",
        "env = gym.make(\"env_id\", render_mode=\"human\")\n",
        "```\n",
        "\n",
        "この方法では、環境が\"human\"レンダリングモードをネイティブにサポートしていない場合にのみ、HumanRenderingラッパーが自動的に適用されます。\n",
        "\n",
        "上記のコードを実行すると、LunarLanderの画面がウィンドウに表示され、環境が50ステップ進行するたびにフレームがレンダリングされます。\n",
        "\n",
        "環境がリセットされるたびに、新しいエピソードが始まり、ウィンドウにレンダリングされた最初のフレームが表示されます。\n",
        "\n",
        "HumanRenderingラッパーは、人間が環境を視覚化したり、動作を確認したりするのに便利です。ただし、レンダリングの [overhead](https://hldc.co.jp/blog/2022/12/15/11611/) が高いため、実際の強化学習トレーニングなどでは使用しないことをお勧めします。"
      ]
    }
  ],
  "metadata": {
    "colab": {
      "provenance": []
    },
    "kernelspec": {
      "display_name": "Python 3",
      "name": "python3"
    },
    "language_info": {
      "name": "python",
      "version": "3.10.11"
    }
  },
  "nbformat": 4,
  "nbformat_minor": 0
}
